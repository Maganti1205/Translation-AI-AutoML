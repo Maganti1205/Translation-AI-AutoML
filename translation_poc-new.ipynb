{
 "cells": [
  {
   "cell_type": "code",
   "execution_count": 40,
   "id": "ce14fa91-02b3-4c01-a907-df4b6478029b",
   "metadata": {},
   "outputs": [],
   "source": [
    "## 1.prepare data(tsv)\n",
    "import csv\n",
    "de = open('titles_deduped_de', 'r', encoding='utf-16')\n",
    "en = open('titles_deduped_en', 'r', encoding='utf-16')\n",
    "en_de_translation = open('en-de-pairs-titles.tsv','w')\n",
    "\n",
    "headerslist = [\"en\",\"de\"]\n",
    "dw = csv.DictWriter(en_de_translation,delimiter = '\\t',fieldnames =headerslist)\n",
    "dw.writeheader()\n",
    "\n",
    "for en_line, de_line in zip(en, de):\n",
    "    en_de_translation.write(en_line.strip()+ '\\t'+de_line)"
   ]
  },
  {
   "cell_type": "code",
   "execution_count": 41,
   "id": "7a19210e-8d49-4ff3-b5d5-ee133f20ec40",
   "metadata": {},
   "outputs": [],
   "source": [
    "##%%timeit -n 1000\n",
    "## 2.split data(train,evaluate,test)\n",
    "import pandas as pd\n",
    "from google.cloud import storage\n",
    "\n",
    "#skip  the error rows and load into pandas\n",
    "results = pd.read_csv(\"en-de-pairs-titles.tsv\" , sep='\\t' , on_bad_lines='skip')\n",
    "\n",
    "results=results.drop_duplicates()\n",
    "\n"
   ]
  },
  {
   "cell_type": "code",
   "execution_count": 42,
   "id": "66b24ef3-42fe-4729-b872-6f313dc5ed96",
   "metadata": {},
   "outputs": [
    {
     "data": {
      "text/plain": [
       "en    814902\n",
       "de    814902\n",
       "dtype: int64"
      ]
     },
     "execution_count": 42,
     "metadata": {},
     "output_type": "execute_result"
    }
   ],
   "source": [
    "results.count()"
   ]
  },
  {
   "cell_type": "code",
   "execution_count": 43,
   "id": "ba44aff3-7733-409b-ad52-7ec484559c84",
   "metadata": {},
   "outputs": [],
   "source": [
    "## 2.split data(train,evaluate,test)\n",
    "import pandas as pd\n",
    "from google.cloud import storage\n",
    "\n",
    "#skip  the error rows and load into pandas\n",
    "results1 = pd.read_csv(\"de-en-pairs.tsv\" , sep='\\t' , on_bad_lines='skip')\n",
    "\n",
    "train_data = \"gs://etsy-translation-poc/en-de-titles-input/train.tsv\"\n",
    "\n",
    "evaluation_data = \"gs://etsy-translation-poc/en-de-titles-input/validation.tsv\"\n",
    "\n",
    "test_data = \"gs://etsy-translation-poc/en-de-titles-input/test.tsv\"\n",
    "\n",
    "results1 = results1.sample(frac = 1)\n",
    "\n",
    "#upload evaluation data file to gcs\n",
    "results1[:10001].to_csv(evaluation_data,sep = \"\\t\",index = None)\n",
    "\n",
    "#upload test data file to gcs\n",
    "results1[10001:20001].to_csv(test_data,sep = \"\\t\",index = None)\n",
    "\n",
    "#upload train data to gcs\n",
    "results1[20001:].to_csv(train_data,sep = \"\\t\",index = None)\n"
   ]
  },
  {
   "cell_type": "code",
   "execution_count": 44,
   "id": "1d1ef5bf-c8e3-4e31-8170-ed5bf6246b2d",
   "metadata": {},
   "outputs": [],
   "source": [
    "## 3.create csv with file uri's \n",
    "type = ['TRAIN','TEST','VALIDATION']\n",
    "name = [train_data,test_data,evaluation_data]\n",
    "pairs = {'type' :type , 'name' : name, }\n",
    "df = pd.DataFrame.from_dict(pairs)\n",
    "df.to_csv(\"gs://etsy-translation-poc/en_de_titles_input_uri.csv\",header = None,index=None,sep = ',')\n"
   ]
  },
  {
   "cell_type": "code",
   "execution_count": 46,
   "id": "52a9465f-b6eb-47a7-982d-c84ca0f34a48",
   "metadata": {},
   "outputs": [
    {
     "name": "stdout",
     "output_type": "stream",
     "text": [
      "Dataset name: projects/439333382875/locations/us-central1/datasets/TRL272620059816361984\n",
      "Dataset id: TRL272620059816361984\n"
     ]
    }
   ],
   "source": [
    "## 4.create dataset\n",
    "from google.cloud import automl\n",
    "\n",
    "# TODO(developer): Uncomment and set the following variables\n",
    "project_id = \"test-project-abhijeet\"\n",
    "display_name = \"etsy_translation_poc_en_de_title\"\n",
    "\n",
    "client = automl.AutoMlClient()\n",
    "\n",
    "# A resource that represents Google Cloud Platform location.\n",
    "project_location = f\"projects/{project_id}/locations/us-central1\"\n",
    "dataset_metadata = automl.TranslationDatasetMetadata(\n",
    "    source_language_code=\"en\", target_language_code=\"de\"\n",
    ")\n",
    "dataset = automl.Dataset(\n",
    "    display_name=display_name,\n",
    "    translation_dataset_metadata=dataset_metadata,\n",
    ")\n",
    "\n",
    "# Create a dataset with the dataset metadata in the region.\n",
    "response = client.create_dataset(parent=project_location, dataset=dataset)\n",
    "\n",
    "created_dataset = response.result()\n",
    "\n",
    "# Display the dataset information\n",
    "print(\"Dataset name: {}\".format(created_dataset.name))\n",
    "print(\"Dataset id: {}\".format(created_dataset.name.split(\"/\")[-1]))"
   ]
  },
  {
   "cell_type": "code",
   "execution_count": 47,
   "id": "8822fbea-6bcc-4917-8cf1-3b7914858783",
   "metadata": {},
   "outputs": [
    {
     "name": "stdout",
     "output_type": "stream",
     "text": [
      "Processing import...\n",
      "Data imported. \n"
     ]
    }
   ],
   "source": [
    "## 5.import data to dataset\n",
    "\n",
    "from google.cloud import automl\n",
    "\n",
    "# TODO(developer): Uncomment and set the following variables\n",
    "project_id = \"test-project-abhijeet\"\n",
    "dataset_id = \"TRL272620059816361984\"\n",
    "path = \"gs://etsy-translation-poc/en_de_titles_input_uri.csv\"\n",
    "\n",
    "client = automl.AutoMlClient()\n",
    "# Get the full path of the dataset.\n",
    "dataset_full_id = client.dataset_path(project_id, \"us-central1\", dataset_id)\n",
    "# Get the multiple Google Cloud Storage URIs\n",
    "input_uris = path.split(\",\")\n",
    "gcs_source = automl.GcsSource(input_uris=input_uris)\n",
    "input_config = automl.InputConfig(gcs_source=gcs_source)\n",
    "# Import data from the input URI\n",
    "response = client.import_data(name=dataset_full_id, input_config=input_config)\n",
    "print(\"Processing import...\")\n",
    "print(\"Data imported. {}\".format(response.result()))"
   ]
  },
  {
   "cell_type": "code",
   "execution_count": 48,
   "id": "60ea77cd-b7cd-48b5-a6ab-adf0d3644fe3",
   "metadata": {},
   "outputs": [
    {
     "name": "stdout",
     "output_type": "stream",
     "text": [
      "Training operation name: projects/439333382875/locations/us-central1/operations/TRL5896119833954615296\n",
      "Training started...\n"
     ]
    }
   ],
   "source": [
    "## 6.train translation model \n",
    "\n",
    "from google.cloud import automl\n",
    "\n",
    "# TODO(developer): Uncomment and set the following variables\n",
    "project_id = \"test-project-abhijeet\"\n",
    "dataset_id = \"TRL272620059816361984\"\n",
    "display_name = \"etsy_translation_poc_en_de_title\"\n",
    "\n",
    "client = automl.AutoMlClient()\n",
    "\n",
    "# A resource that represents Google Cloud Platform location.\n",
    "project_location = f\"projects/{project_id}/locations/us-central1\"\n",
    "translation_model_metadata = automl.TranslationModelMetadata()\n",
    "model = automl.Model(\n",
    "    display_name=display_name,\n",
    "    dataset_id=dataset_id,\n",
    "    translation_model_metadata=translation_model_metadata,\n",
    ")\n",
    "\n",
    "# Create a model with the model metadata in the region.\n",
    "response = client.create_model(parent=project_location, model=model)\n",
    "\n",
    "print(\"Training operation name: {}\".format(response.operation.name))\n",
    "print(\"Training started...\")"
   ]
  },
  {
   "cell_type": "code",
   "execution_count": 36,
   "id": "24b4a67d-051f-4a86-b10c-6f437fd3d926",
   "metadata": {},
   "outputs": [
    {
     "data": {
      "text/plain": [
       "<Response [401]>"
      ]
     },
     "execution_count": 36,
     "metadata": {},
     "output_type": "execute_result"
    }
   ],
   "source": [
    "## 7.get status of operation\n",
    "import requests\n",
    "r = requests.get(url = \"https://automl.googleapis.com/v1/projects/439333382875/locations/us-central1/operations/TRL3206063481530875904\")\n",
    "r"
   ]
  },
  {
   "cell_type": "code",
   "execution_count": 168,
   "id": "42dcf50c-a32f-4a2f-a452-9440f59fa7e9",
   "metadata": {},
   "outputs": [
    {
     "name": "stdout",
     "output_type": "stream",
     "text": [
      "List of model evaluations:\n",
      "Model evaluation name: projects/439333382875/locations/us-central1/models/TRL9062941195734351872/modelEvaluations/1363857528571088686\n",
      "Model annotation spec id: \n",
      "Create Time: 2022-11-15 23:09:42.539892+00:00\n",
      "Evaluation example count: 4081\n",
      "Translation model evaluation metrics: bleu_score: 51.73214077949524\n",
      "base_bleu_score: 50.428926944732666\n",
      "\n"
     ]
    }
   ],
   "source": [
    "## 8.evalauate the model\n",
    "from google.cloud import automl\n",
    "\n",
    "# TODO(developer): Uncomment and set the following variables\n",
    "project_id = \"test-project-abhijeet\"\n",
    "model_id = \"TRL9062941195734351872\"\n",
    "\n",
    "client = automl.AutoMlClient()\n",
    "# Get the full path of the model.\n",
    "model_full_id = client.model_path(project_id, \"us-central1\", model_id)\n",
    "\n",
    "print(\"List of model evaluations:\")\n",
    "for evaluation in client.list_model_evaluations(parent=model_full_id, filter=\"\"):\n",
    "    print(\"Model evaluation name: {}\".format(evaluation.name))\n",
    "    print(\"Model annotation spec id: {}\".format(evaluation.annotation_spec_id))\n",
    "    print(\"Create Time: {}\".format(evaluation.create_time))\n",
    "    print(\"Evaluation example count: {}\".format(evaluation.evaluated_example_count))\n",
    "    print(\n",
    "        \"Translation model evaluation metrics: {}\".format(\n",
    "            evaluation.translation_evaluation_metrics\n",
    "        )\n",
    "    )"
   ]
  },
  {
   "cell_type": "code",
   "execution_count": 211,
   "id": "1a1b1862-9d4d-4806-a268-6c4c907ebdd7",
   "metadata": {},
   "outputs": [],
   "source": [
    "\n",
    "## 9.test the model\n",
    "from google.cloud import automl\n",
    "\n",
    "# Set the following variables \n",
    "project_id = \"test-project-abhijeet\"\n",
    "model_id = \"TRL9062941195734351872\"\n",
    "file_path = \"gengo_2k_test_de\"\n",
    "translated_file_path = \"gengo_2k_test_en\"\n",
    "\n",
    "\n",
    "# Get the full path of the model.\n",
    "model_full_id = automl.AutoMlClient.model_path(project_id, \"us-central1\", model_id)\n",
    "\n",
    "# Read the file content for translation.\n",
    "\n",
    "df = pd.DataFrame(columns=['de','en','translated-en'])\n",
    "\n",
    "content_file =  open(file_path, 'r', encoding='utf-16') \n",
    "translated_content_file =  open(translated_file_path, 'r', encoding='utf-16')\n",
    "for a_line,b_line in zip(content_file,translated_content_file):\n",
    "    text_snippet = automl.TextSnippet(content=a_line)\n",
    "    payload = automl.ExamplePayload(text_snippet=text_snippet)\n",
    "    response = prediction_client.predict(name=model_full_id, payload=payload)\n",
    "    translated_content = response.payload[0].translation.translated_content\n",
    "    df=df.append(pd.Series([a_line,b_line,format(translated_content.content)],index = df.columns),ignore_index=True)\n",
    "df.to_csv(\"gs://etsy-translation-poc/output.csv\",sep = ',')"
   ]
  },
  {
   "cell_type": "code",
   "execution_count": 216,
   "id": "5ddd3390-3950-431c-a9db-2b88ac156f12",
   "metadata": {
    "tags": []
   },
   "outputs": [
    {
     "name": "stdout",
     "output_type": "stream",
     "text": [
      "0\n",
      "                                                      de  \\\n",
      "10001  Der Anhänger kann mit und ohne Kette erworben ...   \n",
      "10002  Es lassen sich drei Fächer aus der Box heraus ...   \n",
      "10003  Im Deckel der Box ist ein schöner Runder Spiegel.   \n",
      "10004  Der Verschluss ist aus sehr Qualitativen Alumi...   \n",
      "10005  Das Innere Futter der Tasche ist aus Kaschmir ...   \n",
      "...                                                  ...   \n",
      "19996  Blaue Schichtblume mit Elfenbeinakzenten aus g...   \n",
      "19997  Baby Mädchen Stirnband blau weiß - Baby Stirnb...   \n",
      "19998  Antiker YKK-Mittelreißverschluss für zusätzlic...   \n",
      "19999  Es ist so ein wunderschönes modisches Zeug, da...   \n",
      "20000  Eine Bomberlederjacke im schneidigen Stil für ...   \n",
      "\n",
      "                                                      en  \n",
      "10001            Either with or without chain available!  \n",
      "10002  There can be three subjects out of the box and...  \n",
      "10003     In the lid of the box is a nice round mirror .  \n",
      "10004   The closure is made ​​of very quality aluminum .  \n",
      "10005  The inside lining of the bag is made of cashme...  \n",
      "...                                                  ...  \n",
      "19996  Blue layer flower with ivory accents of rolled...  \n",
      "19997  Baby Girl Headband Blue White - Baby Headband-...  \n",
      "19998  YKK antiqued centre zip for added colour tonin...  \n",
      "19999  it is such a beautiful fashionable stuff that ...  \n",
      "20000  A dashing style bomber leather jacket for the ...  \n",
      "\n",
      "[10000 rows x 2 columns]\n",
      "2\n",
      "2\n"
     ]
    }
   ],
   "source": [
    "count = 0\n",
    "print(count)\n",
    "print(results[10001:20001])\n",
    "for result in results:\n",
    "    length = len(result)\n",
    "    print(length)\n",
    "    if length>2:\n",
    "        print(length)\n"
   ]
  },
  {
   "cell_type": "code",
   "execution_count": null,
   "id": "45e135c0-4bd4-48d4-afcd-f9667832477f",
   "metadata": {},
   "outputs": [],
   "source": []
  },
  {
   "cell_type": "code",
   "execution_count": null,
   "id": "761b13aa-e9e4-4274-870c-71871ae942a4",
   "metadata": {},
   "outputs": [],
   "source": []
  }
 ],
 "metadata": {
  "environment": {
   "kernel": "python3",
   "name": "common-cpu.m100",
   "type": "gcloud",
   "uri": "gcr.io/deeplearning-platform-release/base-cpu:m100"
  },
  "kernelspec": {
   "display_name": "Python 3",
   "language": "python",
   "name": "python3"
  },
  "language_info": {
   "codemirror_mode": {
    "name": "ipython",
    "version": 3
   },
   "file_extension": ".py",
   "mimetype": "text/x-python",
   "name": "python",
   "nbconvert_exporter": "python",
   "pygments_lexer": "ipython3",
   "version": "3.7.12"
  }
 },
 "nbformat": 4,
 "nbformat_minor": 5
}
